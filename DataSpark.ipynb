{
 "cells": [
  {
   "cell_type": "code",
   "execution_count": 1,
   "id": "2bf9ba2d-065e-4590-914c-f9fd3c39b33b",
   "metadata": {},
   "outputs": [],
   "source": [
    "import pandas as pd\n",
    "import matplotlib.pyplot as plt\n",
    "import seaborn as sns\n",
    "import numpy as np\n",
    "import mysql.connector"
   ]
  },
  {
   "cell_type": "code",
   "execution_count": 2,
   "id": "904a71ba-6ff2-49b8-8a44-b96a6aa295c5",
   "metadata": {},
   "outputs": [],
   "source": [
    "# File paths\n",
    "customers_path =r\"C:\\Users\\J\\Desktop\\GUVI\\Project\\DataSpark\\DataSet\\Customers.csv\"\n",
    "products_path =r\"C:\\Users\\J\\Desktop\\GUVI\\Project\\DataSpark\\DataSet\\Products.csv\"\n",
    "sales_path =r\"C:\\Users\\J\\Desktop\\GUVI\\Project\\DataSpark\\DataSet\\Sales.csv\"\n",
    "exchange_rates_path =r\"C:\\Users\\J\\Desktop\\GUVI\\Project\\DataSpark\\DataSet\\Exchange_Rates.csv\"\n",
    "stores_path =r\"C:\\Users\\J\\Desktop\\GUVI\\Project\\DataSpark\\DataSet\\Stores.csv\"\n",
    "\n",
    "# Load datasets\n",
    "customers = pd.read_csv(customers_path, encoding='latin1')\n",
    "products = pd.read_csv(products_path, encoding='latin1')\n",
    "sales = pd.read_csv(sales_path, encoding='latin1')\n",
    "exchange_rates = pd.read_csv(exchange_rates_path, encoding='latin1')\n",
    "stores = pd.read_csv(stores_path, encoding='latin1')"
   ]
  },
  {
   "cell_type": "code",
   "execution_count": 3,
   "id": "2a129e58-da21-4b46-84f4-23fc9f14939b",
   "metadata": {},
   "outputs": [],
   "source": [
    "#Customers\n",
    "# Data Cleaning and Transformation\n",
    "customers['Birthday'] = pd.to_datetime(customers['Birthday'], errors='coerce')\n",
    "customers['Age'] = pd.to_datetime('today').year - customers['Birthday'].dt.year\n",
    "customers['Age'] = customers['Age'].fillna(0).astype(int)"
   ]
  },
  {
   "cell_type": "code",
   "execution_count": 4,
   "id": "6149739f-8070-46ad-93c2-0dabf59a0be8",
   "metadata": {},
   "outputs": [
    {
     "name": "stdout",
     "output_type": "stream",
     "text": [
      "<class 'pandas.core.frame.DataFrame'>\n",
      "RangeIndex: 15266 entries, 0 to 15265\n",
      "Data columns (total 11 columns):\n",
      " #   Column       Non-Null Count  Dtype         \n",
      "---  ------       --------------  -----         \n",
      " 0   CustomerKey  15266 non-null  int64         \n",
      " 1   Gender       15266 non-null  object        \n",
      " 2   Name         15266 non-null  object        \n",
      " 3   City         15266 non-null  object        \n",
      " 4   State Code   15256 non-null  object        \n",
      " 5   State        15266 non-null  object        \n",
      " 6   Zip Code     15266 non-null  object        \n",
      " 7   Country      15266 non-null  object        \n",
      " 8   Continent    15266 non-null  object        \n",
      " 9   Birthday     15266 non-null  datetime64[ns]\n",
      " 10  Age          15266 non-null  int32         \n",
      "dtypes: datetime64[ns](1), int32(1), int64(1), object(8)\n",
      "memory usage: 1.2+ MB\n"
     ]
    }
   ],
   "source": [
    "customers.info()"
   ]
  },
  {
   "cell_type": "code",
   "execution_count": 5,
   "id": "de04962e-faf0-401e-a6ec-732517cff87a",
   "metadata": {},
   "outputs": [
    {
     "data": {
      "text/plain": [
       "CustomerKey     0\n",
       "Gender          0\n",
       "Name            0\n",
       "City            0\n",
       "State Code     10\n",
       "State           0\n",
       "Zip Code        0\n",
       "Country         0\n",
       "Continent       0\n",
       "Birthday        0\n",
       "Age             0\n",
       "dtype: int64"
      ]
     },
     "execution_count": 5,
     "metadata": {},
     "output_type": "execute_result"
    }
   ],
   "source": [
    "customers.isnull().sum()"
   ]
  },
  {
   "cell_type": "code",
   "execution_count": 6,
   "id": "2a47b903-77ac-4c89-9102-d549c9daa5bc",
   "metadata": {},
   "outputs": [],
   "source": [
    "#DROP THE COLUMN\n",
    "customers.drop({\"State Code\",\"Zip Code\"},axis=1,inplace=True)"
   ]
  },
  {
   "cell_type": "code",
   "execution_count": 7,
   "id": "e2aa7bbb-09da-4ae5-a1ef-810dd7737a89",
   "metadata": {},
   "outputs": [],
   "source": [
    "#RENAME THE COLUMN\n",
    "exchange_rates.rename(columns={\"Currency\":\"Currency Code\"},inplace=True)\n",
    "exchange_rates['Date'] = pd.to_datetime(exchange_rates['Date'], format=\"%m/%d/%Y\",errors='coerce')"
   ]
  },
  {
   "cell_type": "code",
   "execution_count": 8,
   "id": "30ff337f-659b-4945-b3eb-238e9d6b74f6",
   "metadata": {},
   "outputs": [
    {
     "name": "stdout",
     "output_type": "stream",
     "text": [
      "<class 'pandas.core.frame.DataFrame'>\n",
      "RangeIndex: 11215 entries, 0 to 11214\n",
      "Data columns (total 3 columns):\n",
      " #   Column         Non-Null Count  Dtype         \n",
      "---  ------         --------------  -----         \n",
      " 0   Date           11215 non-null  datetime64[ns]\n",
      " 1   Currency Code  11215 non-null  object        \n",
      " 2   Exchange       11215 non-null  float64       \n",
      "dtypes: datetime64[ns](1), float64(1), object(1)\n",
      "memory usage: 263.0+ KB\n"
     ]
    }
   ],
   "source": [
    "exchange_rates.info()"
   ]
  },
  {
   "cell_type": "code",
   "execution_count": 9,
   "id": "6c78be2a-9b26-4b93-9e68-53fc8407f113",
   "metadata": {},
   "outputs": [
    {
     "data": {
      "text/plain": [
       "Date             0\n",
       "Currency Code    0\n",
       "Exchange         0\n",
       "dtype: int64"
      ]
     },
     "execution_count": 9,
     "metadata": {},
     "output_type": "execute_result"
    }
   ],
   "source": [
    "exchange_rates.isnull().sum()"
   ]
  },
  {
   "cell_type": "code",
   "execution_count": 10,
   "id": "b2519fe2-e5bb-49c3-804a-a656cbfe0271",
   "metadata": {},
   "outputs": [
    {
     "name": "stdout",
     "output_type": "stream",
     "text": [
      "<class 'pandas.core.frame.DataFrame'>\n",
      "RangeIndex: 2517 entries, 0 to 2516\n",
      "Data columns (total 10 columns):\n",
      " #   Column          Non-Null Count  Dtype \n",
      "---  ------          --------------  ----- \n",
      " 0   ProductKey      2517 non-null   int64 \n",
      " 1   Product Name    2517 non-null   object\n",
      " 2   Brand           2517 non-null   object\n",
      " 3   Color           2517 non-null   object\n",
      " 4   Unit Cost USD   2517 non-null   object\n",
      " 5   Unit Price USD  2517 non-null   object\n",
      " 6   SubcategoryKey  2517 non-null   int64 \n",
      " 7   Subcategory     2517 non-null   object\n",
      " 8   CategoryKey     2517 non-null   int64 \n",
      " 9   Category        2517 non-null   object\n",
      "dtypes: int64(3), object(7)\n",
      "memory usage: 196.8+ KB\n"
     ]
    }
   ],
   "source": [
    "products.info()"
   ]
  },
  {
   "cell_type": "code",
   "execution_count": 11,
   "id": "ea00f435-0bdc-469b-b542-646bc812c4ad",
   "metadata": {},
   "outputs": [
    {
     "data": {
      "text/plain": [
       "ProductKey        0\n",
       "Product Name      0\n",
       "Brand             0\n",
       "Color             0\n",
       "Unit Cost USD     0\n",
       "Unit Price USD    0\n",
       "SubcategoryKey    0\n",
       "Subcategory       0\n",
       "CategoryKey       0\n",
       "Category          0\n",
       "dtype: int64"
      ]
     },
     "execution_count": 11,
     "metadata": {},
     "output_type": "execute_result"
    }
   ],
   "source": [
    "products.isnull().sum()"
   ]
  },
  {
   "cell_type": "code",
   "execution_count": 12,
   "id": "dfbb14c0-958d-4658-afdd-ac6c429aa65b",
   "metadata": {},
   "outputs": [],
   "source": [
    "products[\"Unit Cost USD\"] = products[\"Unit Cost USD\"].str.replace(\"$\",\"\").str.replace(\",\",\"\")\n",
    "products[\"Unit Cost USD\"] = products[\"Unit Cost USD\"].astype(float)\n",
    "\n",
    "products[\"Unit Price USD\"] = products[\"Unit Price USD\"].str.replace(\"$\",\"\").str.replace(\",\",\"\")\n",
    "products[\"Unit Price USD\"] = products[\"Unit Price USD\"].astype(float) "
   ]
  },
  {
   "cell_type": "code",
   "execution_count": 13,
   "id": "2cfa5e91-909b-4a88-81f6-09bb2a11e33a",
   "metadata": {},
   "outputs": [
    {
     "name": "stdout",
     "output_type": "stream",
     "text": [
      "<class 'pandas.core.frame.DataFrame'>\n",
      "RangeIndex: 2517 entries, 0 to 2516\n",
      "Data columns (total 10 columns):\n",
      " #   Column          Non-Null Count  Dtype  \n",
      "---  ------          --------------  -----  \n",
      " 0   ProductKey      2517 non-null   int64  \n",
      " 1   Product Name    2517 non-null   object \n",
      " 2   Brand           2517 non-null   object \n",
      " 3   Color           2517 non-null   object \n",
      " 4   Unit Cost USD   2517 non-null   float64\n",
      " 5   Unit Price USD  2517 non-null   float64\n",
      " 6   SubcategoryKey  2517 non-null   int64  \n",
      " 7   Subcategory     2517 non-null   object \n",
      " 8   CategoryKey     2517 non-null   int64  \n",
      " 9   Category        2517 non-null   object \n",
      "dtypes: float64(2), int64(3), object(5)\n",
      "memory usage: 196.8+ KB\n"
     ]
    }
   ],
   "source": [
    "products.info()"
   ]
  },
  {
   "cell_type": "code",
   "execution_count": 14,
   "id": "16fbf170-c4ad-4f64-a23d-89f7de90edce",
   "metadata": {},
   "outputs": [],
   "source": [
    "products.drop({\"SubcategoryKey\"},axis=1,inplace=True)"
   ]
  },
  {
   "cell_type": "code",
   "execution_count": 15,
   "id": "4c4e55ce-b5fd-4e6c-9786-d0bd590bc738",
   "metadata": {},
   "outputs": [
    {
     "name": "stdout",
     "output_type": "stream",
     "text": [
      "<class 'pandas.core.frame.DataFrame'>\n",
      "RangeIndex: 62884 entries, 0 to 62883\n",
      "Data columns (total 9 columns):\n",
      " #   Column         Non-Null Count  Dtype \n",
      "---  ------         --------------  ----- \n",
      " 0   Order Number   62884 non-null  int64 \n",
      " 1   Line Item      62884 non-null  int64 \n",
      " 2   Order Date     62884 non-null  object\n",
      " 3   Delivery Date  13165 non-null  object\n",
      " 4   CustomerKey    62884 non-null  int64 \n",
      " 5   StoreKey       62884 non-null  int64 \n",
      " 6   ProductKey     62884 non-null  int64 \n",
      " 7   Quantity       62884 non-null  int64 \n",
      " 8   Currency Code  62884 non-null  object\n",
      "dtypes: int64(6), object(3)\n",
      "memory usage: 4.3+ MB\n"
     ]
    }
   ],
   "source": [
    "sales.info()"
   ]
  },
  {
   "cell_type": "code",
   "execution_count": 16,
   "id": "97e4d912-1236-4e89-9cf6-01e6e9b5bf03",
   "metadata": {},
   "outputs": [
    {
     "data": {
      "text/plain": [
       "Order Number         0\n",
       "Line Item            0\n",
       "Order Date           0\n",
       "Delivery Date    49719\n",
       "CustomerKey          0\n",
       "StoreKey             0\n",
       "ProductKey           0\n",
       "Quantity             0\n",
       "Currency Code        0\n",
       "dtype: int64"
      ]
     },
     "execution_count": 16,
     "metadata": {},
     "output_type": "execute_result"
    }
   ],
   "source": [
    "sales.isnull().sum()"
   ]
  },
  {
   "cell_type": "code",
   "execution_count": 17,
   "id": "33409c43-eca5-4787-bfb3-e6cb68ffcd22",
   "metadata": {},
   "outputs": [],
   "source": [
    "sales['Order Date'] = pd.to_datetime(sales['Order Date'],format=\"%m/%d/%Y\",errors='coerce').dt.date"
   ]
  },
  {
   "cell_type": "code",
   "execution_count": 18,
   "id": "f1585cbc-d5e5-457c-ac7f-113675493d81",
   "metadata": {},
   "outputs": [],
   "source": [
    "#FILL THE MISSING VALUES\n",
    "sales[\"Delivery Date\"] = sales[\"Delivery Date\"].fillna(0)"
   ]
  },
  {
   "cell_type": "code",
   "execution_count": 19,
   "id": "00fbf184-5b48-4519-ae64-c1005446d898",
   "metadata": {},
   "outputs": [
    {
     "name": "stdout",
     "output_type": "stream",
     "text": [
      "<class 'pandas.core.frame.DataFrame'>\n",
      "RangeIndex: 67 entries, 0 to 66\n",
      "Data columns (total 5 columns):\n",
      " #   Column         Non-Null Count  Dtype  \n",
      "---  ------         --------------  -----  \n",
      " 0   StoreKey       67 non-null     int64  \n",
      " 1   Country        67 non-null     object \n",
      " 2   State          67 non-null     object \n",
      " 3   Square Meters  66 non-null     float64\n",
      " 4   Open Date      67 non-null     object \n",
      "dtypes: float64(1), int64(1), object(3)\n",
      "memory usage: 2.7+ KB\n"
     ]
    }
   ],
   "source": [
    "stores.info()"
   ]
  },
  {
   "cell_type": "code",
   "execution_count": 20,
   "id": "07585de3-593a-4941-8c7e-e5ba73df5625",
   "metadata": {},
   "outputs": [
    {
     "data": {
      "text/plain": [
       "StoreKey         0\n",
       "Country          0\n",
       "State            0\n",
       "Square Meters    1\n",
       "Open Date        0\n",
       "dtype: int64"
      ]
     },
     "execution_count": 20,
     "metadata": {},
     "output_type": "execute_result"
    }
   ],
   "source": [
    "stores.isnull().sum()"
   ]
  },
  {
   "cell_type": "code",
   "execution_count": 21,
   "id": "028d2c44-dbfe-4f30-9b6b-d654c0f8e69c",
   "metadata": {},
   "outputs": [
    {
     "data": {
      "text/html": [
       "<div>\n",
       "<style scoped>\n",
       "    .dataframe tbody tr th:only-of-type {\n",
       "        vertical-align: middle;\n",
       "    }\n",
       "\n",
       "    .dataframe tbody tr th {\n",
       "        vertical-align: top;\n",
       "    }\n",
       "\n",
       "    .dataframe thead th {\n",
       "        text-align: right;\n",
       "    }\n",
       "</style>\n",
       "<table border=\"1\" class=\"dataframe\">\n",
       "  <thead>\n",
       "    <tr style=\"text-align: right;\">\n",
       "      <th></th>\n",
       "      <th>StoreKey</th>\n",
       "      <th>Country</th>\n",
       "      <th>State</th>\n",
       "      <th>Square Meters</th>\n",
       "      <th>Open Date</th>\n",
       "    </tr>\n",
       "  </thead>\n",
       "  <tbody>\n",
       "    <tr>\n",
       "      <th>0</th>\n",
       "      <td>1</td>\n",
       "      <td>Australia</td>\n",
       "      <td>Australian Capital Territory</td>\n",
       "      <td>595.0</td>\n",
       "      <td>1/1/2008</td>\n",
       "    </tr>\n",
       "    <tr>\n",
       "      <th>1</th>\n",
       "      <td>2</td>\n",
       "      <td>Australia</td>\n",
       "      <td>Northern Territory</td>\n",
       "      <td>665.0</td>\n",
       "      <td>1/12/2008</td>\n",
       "    </tr>\n",
       "    <tr>\n",
       "      <th>2</th>\n",
       "      <td>3</td>\n",
       "      <td>Australia</td>\n",
       "      <td>South Australia</td>\n",
       "      <td>2000.0</td>\n",
       "      <td>1/7/2012</td>\n",
       "    </tr>\n",
       "    <tr>\n",
       "      <th>3</th>\n",
       "      <td>4</td>\n",
       "      <td>Australia</td>\n",
       "      <td>Tasmania</td>\n",
       "      <td>2000.0</td>\n",
       "      <td>1/1/2010</td>\n",
       "    </tr>\n",
       "    <tr>\n",
       "      <th>4</th>\n",
       "      <td>5</td>\n",
       "      <td>Australia</td>\n",
       "      <td>Victoria</td>\n",
       "      <td>2000.0</td>\n",
       "      <td>12/9/2015</td>\n",
       "    </tr>\n",
       "    <tr>\n",
       "      <th>...</th>\n",
       "      <td>...</td>\n",
       "      <td>...</td>\n",
       "      <td>...</td>\n",
       "      <td>...</td>\n",
       "      <td>...</td>\n",
       "    </tr>\n",
       "    <tr>\n",
       "      <th>62</th>\n",
       "      <td>63</td>\n",
       "      <td>United States</td>\n",
       "      <td>Utah</td>\n",
       "      <td>2000.0</td>\n",
       "      <td>3/6/2008</td>\n",
       "    </tr>\n",
       "    <tr>\n",
       "      <th>63</th>\n",
       "      <td>64</td>\n",
       "      <td>United States</td>\n",
       "      <td>Washington DC</td>\n",
       "      <td>1330.0</td>\n",
       "      <td>1/1/2010</td>\n",
       "    </tr>\n",
       "    <tr>\n",
       "      <th>64</th>\n",
       "      <td>65</td>\n",
       "      <td>United States</td>\n",
       "      <td>West Virginia</td>\n",
       "      <td>1785.0</td>\n",
       "      <td>1/1/2012</td>\n",
       "    </tr>\n",
       "    <tr>\n",
       "      <th>65</th>\n",
       "      <td>66</td>\n",
       "      <td>United States</td>\n",
       "      <td>Wyoming</td>\n",
       "      <td>840.0</td>\n",
       "      <td>1/1/2014</td>\n",
       "    </tr>\n",
       "    <tr>\n",
       "      <th>66</th>\n",
       "      <td>0</td>\n",
       "      <td>Online</td>\n",
       "      <td>Online</td>\n",
       "      <td>0.0</td>\n",
       "      <td>1/1/2010</td>\n",
       "    </tr>\n",
       "  </tbody>\n",
       "</table>\n",
       "<p>67 rows × 5 columns</p>\n",
       "</div>"
      ],
      "text/plain": [
       "    StoreKey        Country                         State  Square Meters  \\\n",
       "0          1      Australia  Australian Capital Territory          595.0   \n",
       "1          2      Australia            Northern Territory          665.0   \n",
       "2          3      Australia               South Australia         2000.0   \n",
       "3          4      Australia                      Tasmania         2000.0   \n",
       "4          5      Australia                      Victoria         2000.0   \n",
       "..       ...            ...                           ...            ...   \n",
       "62        63  United States                          Utah         2000.0   \n",
       "63        64  United States                 Washington DC         1330.0   \n",
       "64        65  United States                 West Virginia         1785.0   \n",
       "65        66  United States                       Wyoming          840.0   \n",
       "66         0         Online                        Online            0.0   \n",
       "\n",
       "    Open Date  \n",
       "0    1/1/2008  \n",
       "1   1/12/2008  \n",
       "2    1/7/2012  \n",
       "3    1/1/2010  \n",
       "4   12/9/2015  \n",
       "..        ...  \n",
       "62   3/6/2008  \n",
       "63   1/1/2010  \n",
       "64   1/1/2012  \n",
       "65   1/1/2014  \n",
       "66   1/1/2010  \n",
       "\n",
       "[67 rows x 5 columns]"
      ]
     },
     "execution_count": 21,
     "metadata": {},
     "output_type": "execute_result"
    }
   ],
   "source": [
    "stores.fillna(0)"
   ]
  },
  {
   "cell_type": "code",
   "execution_count": 22,
   "id": "abd3e876-9366-4087-b96d-1f5180ad0e71",
   "metadata": {},
   "outputs": [],
   "source": [
    "stores['Open Date'] = pd.to_datetime(stores['Open Date'],format=\"%m/%d/%Y\",errors='coerce').dt.date"
   ]
  },
  {
   "cell_type": "code",
   "execution_count": 23,
   "id": "b21255dc-8129-483e-8bb9-00b3a1168a5a",
   "metadata": {},
   "outputs": [],
   "source": [
    "#REPLACING THE NAN VLAUE\n",
    "stores = stores.replace({np.nan:None})"
   ]
  },
  {
   "cell_type": "code",
   "execution_count": 24,
   "id": "ea13b9c8-7683-4e08-8d94-6dd8f061a61a",
   "metadata": {},
   "outputs": [
    {
     "name": "stdout",
     "output_type": "stream",
     "text": [
      "<pymysql.connections.Connection object at 0x000001AD5D0877A0>\n"
     ]
    }
   ],
   "source": [
    "import pymysql\n",
    "\n",
    "con= pymysql.connect(\n",
    "    host=\"localhost\",\n",
    "    user=\"root\",\n",
    "    password=\"Karthick@04\",\n",
    "\n",
    "    )\n",
    "print(con)"
   ]
  },
  {
   "cell_type": "code",
   "execution_count": 25,
   "id": "2fe9510d-d417-4972-9b1c-cd4acff58440",
   "metadata": {},
   "outputs": [],
   "source": [
    "mycursor=con.cursor()"
   ]
  },
  {
   "cell_type": "code",
   "execution_count": 26,
   "id": "2c3dc53c-2c8f-445a-80b8-22d1b4aa3415",
   "metadata": {},
   "outputs": [
    {
     "data": {
      "text/plain": [
       "1"
      ]
     },
     "execution_count": 26,
     "metadata": {},
     "output_type": "execute_result"
    }
   ],
   "source": [
    "mycursor.execute(\"CREATE DATABASE IF NOT EXISTS DataSpark\")"
   ]
  },
  {
   "cell_type": "code",
   "execution_count": 27,
   "id": "51783207-1d9b-417c-85d9-930778959280",
   "metadata": {},
   "outputs": [
    {
     "name": "stdout",
     "output_type": "stream",
     "text": [
      "('dataspark',)\n",
      "('dte38',)\n",
      "('information_schema',)\n",
      "('jai',)\n",
      "('mysql',)\n",
      "('performance_schema',)\n",
      "('red_bus_details',)\n",
      "('sakila',)\n",
      "('sys',)\n",
      "('task',)\n",
      "('task1',)\n",
      "('test',)\n",
      "('world',)\n"
     ]
    }
   ],
   "source": [
    "mycursor.execute(\"SHOW DATABASES\")\n",
    "for x in mycursor:\n",
    "    print(x)"
   ]
  },
  {
   "cell_type": "code",
   "execution_count": 28,
   "id": "4330a7bb-d3e6-457f-889c-32a78b9d0b22",
   "metadata": {},
   "outputs": [
    {
     "data": {
      "text/plain": [
       "0"
      ]
     },
     "execution_count": 28,
     "metadata": {},
     "output_type": "execute_result"
    }
   ],
   "source": [
    "mycursor.execute(\"USE DataSpark\")"
   ]
  },
  {
   "cell_type": "code",
   "execution_count": 29,
   "id": "534c32e2-804a-4930-84bf-dd9f3ec03b21",
   "metadata": {},
   "outputs": [
    {
     "name": "stdout",
     "output_type": "stream",
     "text": [
      "Table Created Successfully\n"
     ]
    }
   ],
   "source": [
    "mycursor.execute('''\n",
    "    CREATE TABLE IF NOT EXISTS Customers (\n",
    "    CustomerKey INT PRIMARY KEY,\n",
    "    Gender VARCHAR(10),\n",
    "    Name VARCHAR(100),\n",
    "    City VARCHAR(100),\n",
    "    State VARCHAR(50),\n",
    "    State_Code VARCHAR(5),\n",
    "    Zip_Code VARCHAR(10),\n",
    "    Country VARCHAR(50),\n",
    "    Continent VARCHAR(50),\n",
    "    Birthday DATE,\n",
    "    Age INT\n",
    "    )\n",
    "''')\n",
    "print(\"Table Created Successfully\")"
   ]
  },
  {
   "cell_type": "code",
   "execution_count": 30,
   "id": "8b892f6e-8940-455b-b1d4-b8abb2492132",
   "metadata": {},
   "outputs": [
    {
     "name": "stdout",
     "output_type": "stream",
     "text": [
      "Inserted successfully\n"
     ]
    }
   ],
   "source": [
    "insert_query = '''INSERT INTO Customers (\n",
    "                     CustomerKey,\n",
    "                     Gender,\n",
    "                     Name,\n",
    "                     City,\n",
    "                     State,\n",
    "                     Country,\n",
    "                     Continent,\n",
    "                     Birthday,\n",
    "                     Age\n",
    "                  ) VALUES (%s, %s, %s, %s, %s, %s, %s, %s, %s)'''\n",
    "data = customers.values.tolist()\n",
    "mycursor.executemany(insert_query, data)\n",
    "print(\"Inserted successfully\")\n"
   ]
  },
  {
   "cell_type": "code",
   "execution_count": 31,
   "id": "ce0cf57b-7a06-47d1-8c7f-18e16789d750",
   "metadata": {},
   "outputs": [
    {
     "name": "stdout",
     "output_type": "stream",
     "text": [
      "Table Created successfully\n"
     ]
    }
   ],
   "source": [
    "#EXCHANGE TABLE CREATION\n",
    "mycursor.execute('''CREATE TABLE IF NOT EXISTS exchange_rates(\n",
    "                 Date VARCHAR(255),\n",
    "                 Currency_Code VARCHAR(255),\n",
    "                 Exchange FLOAT\n",
    "                 )''')\n",
    "print(\"Table Created successfully\")"
   ]
  },
  {
   "cell_type": "code",
   "execution_count": 32,
   "id": "58e09f70-652b-45cc-85a9-ff8ed9a4a48b",
   "metadata": {},
   "outputs": [
    {
     "name": "stdout",
     "output_type": "stream",
     "text": [
      "Inserted successfully\n"
     ]
    }
   ],
   "source": [
    "#INSERT VALUES INTO EXCHANGE TABLE\n",
    "insert_query ='''INSERT INTO exchange_rates(\n",
    "                 Date,\n",
    "                 Currency_Code,\n",
    "                 Exchange)\n",
    "                 VALUES (%s, %s, %s)'''\n",
    "data=exchange_rates.values.tolist()\n",
    "mycursor.executemany(insert_query,data)\n",
    "print(\"Inserted successfully\")"
   ]
  },
  {
   "cell_type": "code",
   "execution_count": 33,
   "id": "e9ab1a97-111c-422c-97b7-449ae28a921b",
   "metadata": {},
   "outputs": [
    {
     "name": "stdout",
     "output_type": "stream",
     "text": [
      "Table created successfully\n"
     ]
    }
   ],
   "source": [
    "# Create Products Table\n",
    "mycursor.execute('''CREATE TABLE IF NOT EXISTS Products (\n",
    "    ProductKey INT PRIMARY KEY,\n",
    "    ProductName VARCHAR(255),\n",
    "    Brand VARCHAR(50),\n",
    "    Color VARCHAR(50),\n",
    "    UnitCostUSD FLOAT,\n",
    "    UnitPriceUSD FLOAT,\n",
    "    Subcategory VARCHAR(50),\n",
    "    CategoryKey INT,\n",
    "    Category VARCHAR(50)\n",
    ")''')\n",
    "print(\"Table created successfully\")\n"
   ]
  },
  {
   "cell_type": "code",
   "execution_count": 34,
   "id": "f8ac5f85-e8b9-4a3e-963e-1ef15d7fbca4",
   "metadata": {},
   "outputs": [
    {
     "name": "stdout",
     "output_type": "stream",
     "text": [
      "Inserted successfully\n"
     ]
    }
   ],
   "source": [
    "insert_query = '''INSERT INTO Products(\n",
    "                     ProductKey,\n",
    "                     ProductName,\n",
    "                     Brand,\n",
    "                     Color,\n",
    "                     UnitCostUSD,\n",
    "                     UnitPriceUSD,\n",
    "                     Subcategory,\n",
    "                     CategoryKey,\n",
    "                     Category)\n",
    "                  VALUES (%s, %s, %s, %s, %s, %s, %s, %s, %s)'''\n",
    "\n",
    "# Replace NaN with None\n",
    "products = products.where(pd.notnull(products), None)\n",
    "\n",
    "# Convert DataFrame to list of lists\n",
    "data = products.values.tolist()\n",
    "\n",
    "# Execute the insert statement\n",
    "mycursor.executemany(insert_query, data)\n",
    "print(\"Inserted successfully\")\n"
   ]
  },
  {
   "cell_type": "code",
   "execution_count": 35,
   "id": "136719dd-60a0-4f12-80c6-a3c3218af95a",
   "metadata": {},
   "outputs": [
    {
     "name": "stdout",
     "output_type": "stream",
     "text": [
      "Table Created successfully\n"
     ]
    }
   ],
   "source": [
    "#CREATE SALES TABLE\n",
    "mycursor.execute('''CREATE TABLE IF NOT EXISTS sales(\n",
    "                 Order_Number INT,\n",
    "                 Line_Item INT,\n",
    "                 Order_Date VARCHAR(255),\n",
    "                 Delivery_Date VARCHAR(255),\n",
    "                 CustomerKey INT,\n",
    "                 StoreKey INT,\n",
    "                 Productkey INT,\n",
    "                 Quantity INT,\n",
    "                 Currency_Code VARCHAR(255)\n",
    "                 )''')\n",
    "print(\"Table Created successfully\")"
   ]
  },
  {
   "cell_type": "code",
   "execution_count": 36,
   "id": "635ec906-b853-493e-9aae-0f8f066d8756",
   "metadata": {},
   "outputs": [
    {
     "name": "stdout",
     "output_type": "stream",
     "text": [
      "Insert succesfully\n"
     ]
    }
   ],
   "source": [
    "#INSERT VALUES INTO SALES TABLE\n",
    "insert_query = '''INSERT INTO sales(\n",
    "                    Order_Number,\n",
    "                    Line_Item,\n",
    "                    Order_Date,\n",
    "                    Delivery_Date,\n",
    "                    CustomerKey,\n",
    "                    StoreKey,\n",
    "                    ProductKey,\n",
    "                    Quantity,\n",
    "                    Currency_Code)\n",
    "                    VALUES (%s, %s, %s, %s, %s, %s, %s, %s, %s)'''\n",
    "data=sales.values.tolist()\n",
    "mycursor.executemany(insert_query,data)\n",
    "print(\"Insert succesfully\")"
   ]
  },
  {
   "cell_type": "code",
   "execution_count": 78,
   "id": "24938a2f-c5d6-49bb-9d5c-e1987ce1b776",
   "metadata": {},
   "outputs": [
    {
     "name": "stdout",
     "output_type": "stream",
     "text": [
      "Table Created successfully\n"
     ]
    }
   ],
   "source": [
    "#CREATE STORE TABLE\n",
    "mycursor.execute('''CREATE TABLE IF NOT EXISTS stores(\n",
    "                 StoresKey INT,\n",
    "                 Country VARCHAR(255),\n",
    "                 State VARCHAR(255),\n",
    "                 Square_Meters FLOAT,\n",
    "                 Open_Date VARCHAR(255)\n",
    "                 )''')\n",
    "print(\"Table Created successfully\")"
   ]
  },
  {
   "cell_type": "code",
   "execution_count": 80,
   "id": "13d4ffc2-093b-40c0-abf9-faec4df6673d",
   "metadata": {},
   "outputs": [
    {
     "name": "stdout",
     "output_type": "stream",
     "text": [
      "Insert successfully\n"
     ]
    }
   ],
   "source": [
    "#INSERT VALUES INTO STROE TABLE\n",
    "insert_query = '''INSERT INTO stores(\n",
    "                  StoresKey,\n",
    "                  Country,\n",
    "                  State,\n",
    "                  Square_Meters,\n",
    "                  Open_date)\n",
    "                  VALUES (%s, %s, %s, %s, %s)'''\n",
    "stores = stores.where(pd.notnull(stores), None)\n",
    "data = stores.values.tolist()\n",
    "mycursor.executemany(insert_query,data)\n",
    "print(\"Insert successfully\")"
   ]
  },
  {
   "cell_type": "code",
   "execution_count": null,
   "id": "a17734bb-6868-48a5-a030-31a788fe58d8",
   "metadata": {},
   "outputs": [],
   "source": []
  }
 ],
 "metadata": {
  "kernelspec": {
   "display_name": "Python 3 (ipykernel)",
   "language": "python",
   "name": "python3"
  },
  "language_info": {
   "codemirror_mode": {
    "name": "ipython",
    "version": 3
   },
   "file_extension": ".py",
   "mimetype": "text/x-python",
   "name": "python",
   "nbconvert_exporter": "python",
   "pygments_lexer": "ipython3",
   "version": "3.12.4"
  }
 },
 "nbformat": 4,
 "nbformat_minor": 5
}
